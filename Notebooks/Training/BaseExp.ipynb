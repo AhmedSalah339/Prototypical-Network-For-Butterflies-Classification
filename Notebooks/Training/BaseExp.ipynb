{
 "cells": [
  {
   "cell_type": "code",
   "execution_count": 1,
   "metadata": {
    "id": "-n_jxtPg8vHw"
   },
   "outputs": [],
   "source": [
    "import torch\n",
    "from torch.utils.data import Dataset\n",
    "import glob\n",
    "import argparse\n",
    "import os\n",
    "import numpy as np\n",
    "import pickle\n",
    "from PIL import Image\n",
    "from tqdm import tqdm\n"
   ]
  },
  {
   "cell_type": "code",
   "execution_count": 2,
   "metadata": {},
   "outputs": [
    {
     "name": "stdout",
     "output_type": "stream",
     "text": [
      "E:\\CVprojects\\Butterflies\n"
     ]
    }
   ],
   "source": [
    "cd ..\\.."
   ]
  },
  {
   "cell_type": "code",
   "execution_count": 3,
   "metadata": {
    "id": "Sp-0DYPBdObg"
   },
   "outputs": [],
   "source": [
    "# !git clone https://github.com/orobix/Prototypical-Networks-for-Few-shot-Learning-PyTorch.git"
   ]
  },
  {
   "cell_type": "code",
   "execution_count": 4,
   "metadata": {
    "id": "cs5zOAtqfObz"
   },
   "outputs": [],
   "source": [
    "def load_dict(filename_):\n",
    "    with open(filename_, 'rb') as f:\n",
    "        ret_di = pickle.load(f)\n",
    "    return ret_di\n",
    "def save_dict(di_, filename_):\n",
    "    with open(filename_, 'wb') as f:\n",
    "        pickle.dump(di_, f)"
   ]
  },
  {
   "cell_type": "code",
   "execution_count": 5,
   "metadata": {},
   "outputs": [
    {
     "name": "stdout",
     "output_type": "stream",
     "text": [
      "E:\\CVprojects\\Butterflies\\src\\Prototypical_Networks_for_Few_shot_Learning_PyTorch\\src\n"
     ]
    }
   ],
   "source": [
    "cd src\\Prototypical_Networks_for_Few_shot_Learning_PyTorch\\src"
   ]
  },
  {
   "cell_type": "code",
   "execution_count": 6,
   "metadata": {
    "id": "Qc_6QHkLdq_B"
   },
   "outputs": [],
   "source": [
    "from prototypical_batch_sampler import PrototypicalBatchSampler\n",
    "from prototypical_loss import prototypical_loss as loss_fn\n",
    "from protonet import ProtoNet\n",
    "from parser_util import get_parser"
   ]
  },
  {
   "cell_type": "code",
   "execution_count": 7,
   "metadata": {
    "colab": {
     "base_uri": "https://localhost:8080/"
    },
    "id": "ACqMJh-0lsyA",
    "outputId": "55df6364-39ca-4113-aab9-dd366e449edc"
   },
   "outputs": [
    {
     "name": "stdout",
     "output_type": "stream",
     "text": [
      "E:\\CVprojects\\Butterflies\n"
     ]
    }
   ],
   "source": [
    "cd ..\\..\\.."
   ]
  },
  {
   "cell_type": "code",
   "execution_count": 8,
   "metadata": {},
   "outputs": [
    {
     "name": "stdout",
     "output_type": "stream",
     "text": [
      "E:\\CVprojects\\Butterflies\\src\n"
     ]
    }
   ],
   "source": [
    "cd src"
   ]
  },
  {
   "cell_type": "code",
   "execution_count": 9,
   "metadata": {},
   "outputs": [],
   "source": [
    "from Butterfly200DataSet import Butterfly200DataSet"
   ]
  },
  {
   "cell_type": "code",
   "execution_count": 10,
   "metadata": {},
   "outputs": [
    {
     "name": "stdout",
     "output_type": "stream",
     "text": [
      "E:\\CVprojects\\Butterflies\n"
     ]
    }
   ],
   "source": [
    "cd .."
   ]
  },
  {
   "cell_type": "code",
   "execution_count": 11,
   "metadata": {
    "colab": {
     "base_uri": "https://localhost:8080/",
     "height": 36
    },
    "id": "SO3lhVl4WG_s",
    "outputId": "0ed36c04-9a5f-45df-ff64-6bd5068c301a"
   },
   "outputs": [
    {
     "data": {
      "text/plain": [
       "'configs\\\\splits\\\\split_dict2.pkl'"
      ]
     },
     "execution_count": 11,
     "metadata": {},
     "output_type": "execute_result"
    }
   ],
   "source": [
    "split_dict_name = \"split_dict2.pkl\"\n",
    "split_dict_path = 'configs\\\\splits\\\\'+split_dict_name\n",
    "split_dict_path"
   ]
  },
  {
   "cell_type": "code",
   "execution_count": 12,
   "metadata": {},
   "outputs": [],
   "source": [
    "# %pip install torch==1.11.0+cu113 torchvision==0.12.0+cu113 torchaudio==0.11.0 --extra-index-url https://download.pytorch.org/whl/cu113"
   ]
  },
  {
   "cell_type": "code",
   "execution_count": 13,
   "metadata": {
    "id": "-fSY3satgbSz"
   },
   "outputs": [],
   "source": [
    "def init_seed(opt):\n",
    "    torch.cuda.cudnn_enabled = True\n",
    "    np.random.seed(opt.manual_seed)\n",
    "    torch.manual_seed(opt.manual_seed)\n",
    "    torch.cuda.manual_seed(opt.manual_seed)\n",
    "def init_dataset(opt, mode):\n",
    "    dataset = Butterfly200DataSet(split_dict_path,mode=mode)\n",
    "    n_classes = len(np.unique(dataset.y))\n",
    "    if n_classes < opt.classes_per_it_tr or n_classes < opt.classes_per_it_val:\n",
    "        raise(Exception('There are not enough classes in the dataset in order ' +\n",
    "                        'to satisfy the chosen classes_per_it. Decrease the ' +\n",
    "                        'classes_per_it_{tr/val} option and try again.'))\n",
    "    return dataset\n",
    "\n",
    "\n",
    "def init_sampler(opt, labels, mode):\n",
    "    if 'train' in mode:\n",
    "        classes_per_it = opt.classes_per_it_tr\n",
    "        num_samples = opt.num_support_tr + opt.num_query_tr\n",
    "    else:\n",
    "        classes_per_it = opt.classes_per_it_val\n",
    "        num_samples = opt.num_support_val + opt.num_query_val\n",
    "\n",
    "    return PrototypicalBatchSampler(labels=labels,\n",
    "                                    classes_per_it=classes_per_it,\n",
    "                                    num_samples=num_samples,\n",
    "                                    iterations=opt.iterations)\n",
    "def init_dataloader(opt, mode):\n",
    "    dataset = init_dataset(opt, mode)\n",
    "    sampler = init_sampler(opt, dataset.y, mode)\n",
    "    dataloader = torch.utils.data.DataLoader(dataset, batch_sampler=sampler)\n",
    "    return dataloader\n",
    "def init_protonet(opt):\n",
    "    '''\n",
    "    Initialize the ProtoNet\n",
    "    '''\n",
    "    device = 'cuda:0' if torch.cuda.is_available() and opt.cuda else 'cpu'\n",
    "    model = ProtoNet().to(device)\n",
    "    return model\n",
    "def init_optim(opt, model):\n",
    "    '''\n",
    "    Initialize optimizer\n",
    "    '''\n",
    "    return torch.optim.Adam(params=model.parameters(),\n",
    "                            lr=opt.learning_rate)\n",
    "def init_lr_scheduler(opt, optim):\n",
    "    '''\n",
    "    Initialize the learning rate scheduler\n",
    "    '''\n",
    "    return torch.optim.lr_scheduler.StepLR(optimizer=optim,\n",
    "                                           gamma=opt.lr_scheduler_gamma,\n",
    "                                           step_size=opt.lr_scheduler_step)\n",
    "def save_list_to_file(path, thelist):\n",
    "    with open(path, 'w') as f:\n",
    "        for item in thelist:\n",
    "            f.write(\"%s\\n\" % item)"
   ]
  },
  {
   "cell_type": "code",
   "execution_count": 14,
   "metadata": {
    "id": "aauYn7gvfeul"
   },
   "outputs": [],
   "source": [
    "def train(opt, tr_dataloader, model, optim, lr_scheduler, val_dataloader=None):\n",
    "    '''\n",
    "    Train the model with the prototypical learning algorithm\n",
    "    '''\n",
    "\n",
    "    device = 'cuda:0' if torch.cuda.is_available() and opt.cuda else 'cpu'\n",
    "\n",
    "    if val_dataloader is None:\n",
    "        best_state = None\n",
    "    train_loss = []\n",
    "    train_acc = []\n",
    "    val_loss = []\n",
    "    val_acc = []\n",
    "    best_acc = 0\n",
    "\n",
    "    best_model_path = os.path.join(opt.experiment_root, 'best_model.pth')\n",
    "    last_model_path = os.path.join(opt.experiment_root, 'last_model.pth')\n",
    "\n",
    "    for epoch in range(opt.epochs):\n",
    "        print('=== Epoch: {} ==='.format(epoch))\n",
    "        tr_iter = iter(tr_dataloader)\n",
    "        model.train()\n",
    "        \n",
    "        for batch in tqdm(tr_iter):\n",
    "            optim.zero_grad()\n",
    "            x, y = batch\n",
    "            x, y = x.to(device), y.to(device)\n",
    "            model_output = model(x)\n",
    "#             print(model_output.shape)\n",
    "#             print(y)\n",
    "#             print(opt.num_support_tr)\n",
    "            loss, acc = loss_fn(model_output, target=y,\n",
    "                                n_support=opt.num_support_tr)\n",
    "            loss.backward()\n",
    "            optim.step()\n",
    "            train_loss.append(loss.item())\n",
    "            train_acc.append(acc.item())\n",
    "            torch.cuda.empty_cache()\n",
    "        avg_loss = np.mean(train_loss[-opt.iterations:])\n",
    "        avg_acc = np.mean(train_acc[-opt.iterations:])\n",
    "        print('Avg Train Loss: {}, Avg Train Acc: {}'.format(avg_loss, avg_acc))\n",
    "        lr_scheduler.step()\n",
    "        if val_dataloader is None:\n",
    "            continue\n",
    "        val_iter = iter(val_dataloader)\n",
    "        model.eval()\n",
    "        for batch in tqdm(val_iter):\n",
    "            x, y = batch\n",
    "            x, y = x.to(device), y.to(device)\n",
    "            model_output = model(x)\n",
    "            loss, acc = loss_fn(model_output, target=y,\n",
    "                                n_support=opt.num_support_val)\n",
    "            val_loss.append(loss.item())\n",
    "            val_acc.append(acc.item())\n",
    "            torch.cuda.empty_cache()\n",
    "        avg_loss = np.mean(val_loss[-opt.iterations:])\n",
    "        avg_acc = np.mean(val_acc[-opt.iterations:])\n",
    "        postfix = ' (Best)' if avg_acc >= best_acc else ' (Best: {})'.format(\n",
    "            best_acc)\n",
    "        print('Avg Val Loss: {}, Avg Val Acc: {}{}'.format(\n",
    "            avg_loss, avg_acc, postfix))\n",
    "        if avg_acc >= best_acc:\n",
    "            torch.save(model.state_dict(), best_model_path)\n",
    "            best_acc = avg_acc\n",
    "            best_state = model.state_dict()\n",
    "\n",
    "    torch.save(model.state_dict(), last_model_path)\n",
    "\n",
    "    for name in ['train_loss', 'train_acc', 'val_loss', 'val_acc']:\n",
    "        save_list_to_file(os.path.join(opt.experiment_root,\n",
    "                                       name + '.txt'), locals()[name])\n",
    "\n",
    "    return best_state, best_acc, train_loss, train_acc, val_loss, val_acc\n",
    "\n",
    "\n",
    "def test(opt, test_dataloader, model):\n",
    "    '''\n",
    "    Test the model trained with the prototypical learning algorithm\n",
    "    '''\n",
    "    device = 'cuda:0' if torch.cuda.is_available() and opt.cuda else 'cpu'\n",
    "    avg_acc = list()\n",
    "    for epoch in tqdm(range(opt.test_epochs)):\n",
    "        test_iter = iter(test_dataloader)\n",
    "        for batch in test_iter:\n",
    "            x, y = batch\n",
    "            x, y = x.to(device), y.to(device)\n",
    "            model_output = model(x)\n",
    "            _, acc = loss_fn(model_output, target=y,\n",
    "                             n_support=opt.num_support_val)\n",
    "            avg_acc.append(acc.item())\n",
    "    avg_acc = np.mean(avg_acc)\n",
    "    print('Test Acc: {}'.format(avg_acc))\n",
    "\n",
    "    return avg_acc\n",
    "\n",
    "\n",
    "def eval(opt):\n",
    "    '''\n",
    "    Initialize everything and train\n",
    "    '''\n",
    "    options = get_parser().parse_args()\n",
    "\n",
    "    if torch.cuda.is_available() and not options.cuda:\n",
    "        print(\"WARNING: You have a CUDA device, so you should probably run with --cuda\")\n",
    "\n",
    "    init_seed(options)\n",
    "    test_dataloader = init_dataset(options)[-1]\n",
    "    model = init_protonet(options)\n",
    "    model_path = os.path.join(opt.experiment_root, 'best_model.pth')\n",
    "    model.load_state_dict(torch.load(model_path))\n",
    "\n",
    "    test(opt=options,\n",
    "         test_dataloader=test_dataloader,\n",
    "         model=model)\n",
    "\n",
    "\n"
   ]
  },
  {
   "cell_type": "code",
   "execution_count": 15,
   "metadata": {
    "id": "q69hMyX_hgvC"
   },
   "outputs": [],
   "source": [
    "d = {\n",
    "    'experiment_root':'base_exp',\n",
    "     'epochs':20,\n",
    "     'test_epochs':10,\n",
    "    'iterations':200,\n",
    "     'cuda':True,\n",
    "     'classes_per_it_tr':5,\n",
    "    'lr_scheduler_step':20,\n",
    "    'num_query_tr':1,\n",
    "    'num_support_tr':2,\n",
    "    'num_query_val':1,\n",
    "     'num_support_val':1,\n",
    "    'learning_rate':0.001,\n",
    "#      'check_point_path':'base_exp/best_after_blur_t48_val50.pth'\n",
    "     }\n",
    "options = get_parser().parse_args('')\n",
    "\n",
    "for key, value in d.items():\n",
    "        setattr(options, key, value)"
   ]
  },
  {
   "cell_type": "code",
   "execution_count": 16,
   "metadata": {
    "colab": {
     "base_uri": "https://localhost:8080/"
    },
    "id": "Ex-_Vg3yRpuG",
    "outputId": "95388e15-57a7-4ce5-ef26-d0f2350e8f31"
   },
   "outputs": [
    {
     "data": {
      "text/plain": [
       "1"
      ]
     },
     "execution_count": 16,
     "metadata": {},
     "output_type": "execute_result"
    }
   ],
   "source": [
    "options.num_query_tr"
   ]
  },
  {
   "cell_type": "code",
   "execution_count": 17,
   "metadata": {
    "colab": {
     "base_uri": "https://localhost:8080/"
    },
    "id": "oMQ1BWDIRwVG",
    "outputId": "5b29dea7-9216-4235-cb2a-fbe48a382600"
   },
   "outputs": [
    {
     "data": {
      "text/plain": [
       "2"
      ]
     },
     "execution_count": 17,
     "metadata": {},
     "output_type": "execute_result"
    }
   ],
   "source": [
    "options.num_support_tr"
   ]
  },
  {
   "cell_type": "code",
   "execution_count": 18,
   "metadata": {},
   "outputs": [],
   "source": [
    "torch.cuda.empty_cache()"
   ]
  },
  {
   "cell_type": "code",
   "execution_count": 19,
   "metadata": {},
   "outputs": [
    {
     "data": {
      "text/plain": [
       "'configs\\\\splits\\\\split_dict2.pkl'"
      ]
     },
     "execution_count": 19,
     "metadata": {},
     "output_type": "execute_result"
    }
   ],
   "source": [
    "split_dict_path"
   ]
  },
  {
   "cell_type": "code",
   "execution_count": 20,
   "metadata": {},
   "outputs": [
    {
     "name": "stderr",
     "output_type": "stream",
     "text": [
      "100%|█████████████████████████████████████████████████████████████████████████████████| 60/60 [00:00<00:00, 116.28it/s]\n",
      "100%|█████████████████████████████████████████████████████████████████████████████████| 46/46 [00:00<00:00, 167.34it/s]\n"
     ]
    }
   ],
   "source": [
    "'''\n",
    "Initialize everything and train\n",
    "'''\n",
    "# options = get_parser().parse_args()\n",
    "if not os.path.exists(options.experiment_root):\n",
    "    os.makedirs(options.experiment_root)\n",
    "\n",
    "if torch.cuda.is_available() and not options.cuda:\n",
    "    print(\"WARNING: You have a CUDA device, so you should probably run with --cuda\")\n",
    "\n",
    "init_seed(options)\n",
    "\n",
    "tr_dataloader = init_dataloader(options, 'train')\n",
    "val_dataloader = init_dataloader(options, 'val')\n",
    "# test_dataloader = init_dataloader(options, 'test')\n",
    "\n"
   ]
  },
  {
   "cell_type": "code",
   "execution_count": 21,
   "metadata": {},
   "outputs": [],
   "source": [
    "model = init_protonet(options)\n",
    "if 'check_point_path' in options:\n",
    "    model.load_state_dict(torch.load(options.check_point_path))\n",
    "\n"
   ]
  },
  {
   "cell_type": "code",
   "execution_count": 22,
   "metadata": {},
   "outputs": [
    {
     "data": {
      "text/plain": [
       "ProtoNet(\n",
       "  (encoder): Sequential(\n",
       "    (0): Sequential(\n",
       "      (0): Conv2d(3, 64, kernel_size=(3, 3), stride=(1, 1), padding=(1, 1))\n",
       "      (1): BatchNorm2d(64, eps=1e-05, momentum=0.1, affine=True, track_running_stats=True)\n",
       "      (2): ReLU()\n",
       "      (3): MaxPool2d(kernel_size=2, stride=2, padding=0, dilation=1, ceil_mode=False)\n",
       "    )\n",
       "    (1): Sequential(\n",
       "      (0): Conv2d(64, 64, kernel_size=(3, 3), stride=(1, 1), padding=(1, 1))\n",
       "      (1): BatchNorm2d(64, eps=1e-05, momentum=0.1, affine=True, track_running_stats=True)\n",
       "      (2): ReLU()\n",
       "      (3): MaxPool2d(kernel_size=2, stride=2, padding=0, dilation=1, ceil_mode=False)\n",
       "    )\n",
       "    (2): Sequential(\n",
       "      (0): Conv2d(64, 64, kernel_size=(3, 3), stride=(1, 1), padding=(1, 1))\n",
       "      (1): BatchNorm2d(64, eps=1e-05, momentum=0.1, affine=True, track_running_stats=True)\n",
       "      (2): ReLU()\n",
       "      (3): MaxPool2d(kernel_size=2, stride=2, padding=0, dilation=1, ceil_mode=False)\n",
       "    )\n",
       "    (3): Sequential(\n",
       "      (0): Conv2d(64, 64, kernel_size=(3, 3), stride=(1, 1), padding=(1, 1))\n",
       "      (1): BatchNorm2d(64, eps=1e-05, momentum=0.1, affine=True, track_running_stats=True)\n",
       "      (2): ReLU()\n",
       "      (3): MaxPool2d(kernel_size=2, stride=2, padding=0, dilation=1, ceil_mode=False)\n",
       "    )\n",
       "  )\n",
       ")"
      ]
     },
     "execution_count": 22,
     "metadata": {},
     "output_type": "execute_result"
    }
   ],
   "source": [
    "model"
   ]
  },
  {
   "cell_type": "code",
   "execution_count": 23,
   "metadata": {},
   "outputs": [],
   "source": [
    "optim = init_optim(options, model)\n",
    "lr_scheduler = init_lr_scheduler(options, optim)"
   ]
  },
  {
   "cell_type": "markdown",
   "metadata": {},
   "source": [
    "- about 10 epochs with 40 classes training: 5 query - 5 support, val: query 4 - sup 3\n",
    "- about 5 epochs with same as above but 10 classes (no significant change)\n",
    "\n",
    "best: 52 train - 56 val\n",
    "- increase the number of the maximum number of samples per class from 50 to 200 \n",
    "\n",
    "best: 48 train - 67 val (with dropout on the -2 and -3 layers)\n",
    "\n",
    "-Using clusters\n",
    "\n",
    "best 34 train 72 val"
   ]
  },
  {
   "cell_type": "markdown",
   "metadata": {},
   "source": [
    "- current exp:\n",
    "92 epoch:42 val- 19 train (20 class - 20 iterations- 1,2 query - 2 sup)\n",
    "\n",
    "200 epoch: 56 val - 38 train (20 class - 20 iterations - 1,2,3 query - 2,3 sup)\n",
    "10 epochs: 55.8 val - 29 train (60 class - 100 iterations - ...)"
   ]
  },
  {
   "cell_type": "code",
   "execution_count": 24,
   "metadata": {
    "colab": {
     "base_uri": "https://localhost:8080/",
     "height": 1000
    },
    "id": "iVOF6u9Fgqzb",
    "outputId": "04ef0830-a864-47d3-e981-58f62d9b6e16",
    "scrolled": true
   },
   "outputs": [
    {
     "name": "stdout",
     "output_type": "stream",
     "text": [
      "=== Epoch: 0 ===\n"
     ]
    },
    {
     "name": "stderr",
     "output_type": "stream",
     "text": [
      "100%|████████████████████████████████████████████████████████████████████████████████| 200/200 [00:38<00:00,  5.15it/s]\n"
     ]
    },
    {
     "name": "stdout",
     "output_type": "stream",
     "text": [
      "Avg Train Loss: 259.05154153466225, Avg Train Acc: 0.48300001144409177\n"
     ]
    },
    {
     "name": "stderr",
     "output_type": "stream",
     "text": [
      "100%|████████████████████████████████████████████████████████████████████████████████| 200/200 [00:16<00:00, 12.44it/s]\n"
     ]
    },
    {
     "name": "stdout",
     "output_type": "stream",
     "text": [
      "Avg Val Loss: 201.98702821850776, Avg Val Acc: 0.4290000100433826 (Best)\n",
      "=== Epoch: 1 ===\n"
     ]
    },
    {
     "name": "stderr",
     "output_type": "stream",
     "text": [
      "100%|████████████████████████████████████████████████████████████████████████████████| 200/200 [00:39<00:00,  5.04it/s]\n"
     ]
    },
    {
     "name": "stdout",
     "output_type": "stream",
     "text": [
      "Avg Train Loss: 53.381200267310376, Avg Train Acc: 0.5180000128597021\n"
     ]
    },
    {
     "name": "stderr",
     "output_type": "stream",
     "text": [
      "100%|████████████████████████████████████████████████████████████████████████████████| 200/200 [00:16<00:00, 11.78it/s]\n"
     ]
    },
    {
     "name": "stdout",
     "output_type": "stream",
     "text": [
      "Avg Val Loss: 80.51106334090233, Avg Val Acc: 0.4180000098794699 (Best: 0.4290000100433826)\n",
      "=== Epoch: 2 ===\n"
     ]
    },
    {
     "name": "stderr",
     "output_type": "stream",
     "text": [
      "100%|████████████████████████████████████████████████████████████████████████████████| 200/200 [00:39<00:00,  5.02it/s]\n"
     ]
    },
    {
     "name": "stdout",
     "output_type": "stream",
     "text": [
      "Avg Train Loss: 23.12147779941267, Avg Train Acc: 0.5570000130683184\n"
     ]
    },
    {
     "name": "stderr",
     "output_type": "stream",
     "text": [
      "100%|████████████████████████████████████████████████████████████████████████████████| 200/200 [00:17<00:00, 11.44it/s]\n"
     ]
    },
    {
     "name": "stdout",
     "output_type": "stream",
     "text": [
      "Avg Val Loss: 66.76724508101121, Avg Val Acc: 0.40300000973045824 (Best: 0.4290000100433826)\n",
      "=== Epoch: 3 ===\n"
     ]
    },
    {
     "name": "stderr",
     "output_type": "stream",
     "text": [
      "100%|████████████████████████████████████████████████████████████████████████████████| 200/200 [00:41<00:00,  4.83it/s]\n"
     ]
    },
    {
     "name": "stdout",
     "output_type": "stream",
     "text": [
      "Avg Train Loss: 12.66984880868181, Avg Train Acc: 0.6140000129491091\n"
     ]
    },
    {
     "name": "stderr",
     "output_type": "stream",
     "text": [
      "100%|████████████████████████████████████████████████████████████████████████████████| 200/200 [00:17<00:00, 11.51it/s]\n"
     ]
    },
    {
     "name": "stdout",
     "output_type": "stream",
     "text": [
      "Avg Val Loss: 37.4572147154808, Avg Val Acc: 0.43200001031160357 (Best)\n",
      "=== Epoch: 4 ===\n"
     ]
    },
    {
     "name": "stderr",
     "output_type": "stream",
     "text": [
      "100%|████████████████████████████████████████████████████████████████████████████████| 200/200 [00:43<00:00,  4.59it/s]\n"
     ]
    },
    {
     "name": "stdout",
     "output_type": "stream",
     "text": [
      "Avg Train Loss: 5.9164940638342385, Avg Train Acc: 0.6790000131726265\n"
     ]
    },
    {
     "name": "stderr",
     "output_type": "stream",
     "text": [
      "100%|████████████████████████████████████████████████████████████████████████████████| 200/200 [00:16<00:00, 11.81it/s]\n"
     ]
    },
    {
     "name": "stdout",
     "output_type": "stream",
     "text": [
      "Avg Val Loss: 23.008449227754028, Avg Val Acc: 0.4050000090152025 (Best: 0.43200001031160357)\n",
      "=== Epoch: 5 ===\n"
     ]
    },
    {
     "name": "stderr",
     "output_type": "stream",
     "text": [
      "100%|████████████████████████████████████████████████████████████████████████████████| 200/200 [00:40<00:00,  4.94it/s]\n"
     ]
    },
    {
     "name": "stdout",
     "output_type": "stream",
     "text": [
      "Avg Train Loss: 3.7965285045501376, Avg Train Acc: 0.6880000142008066\n"
     ]
    },
    {
     "name": "stderr",
     "output_type": "stream",
     "text": [
      "100%|████████████████████████████████████████████████████████████████████████████████| 200/200 [00:17<00:00, 11.73it/s]\n"
     ]
    },
    {
     "name": "stdout",
     "output_type": "stream",
     "text": [
      "Avg Val Loss: 22.31521014392376, Avg Val Acc: 0.4390000107884407 (Best)\n",
      "=== Epoch: 6 ===\n"
     ]
    },
    {
     "name": "stderr",
     "output_type": "stream",
     "text": [
      "100%|████████████████████████████████████████████████████████████████████████████████| 200/200 [00:41<00:00,  4.85it/s]\n"
     ]
    },
    {
     "name": "stdout",
     "output_type": "stream",
     "text": [
      "Avg Train Loss: 2.80886023317876, Avg Train Acc: 0.6990000127255916\n"
     ]
    },
    {
     "name": "stderr",
     "output_type": "stream",
     "text": [
      "100%|████████████████████████████████████████████████████████████████████████████████| 200/200 [00:18<00:00, 11.07it/s]\n"
     ]
    },
    {
     "name": "stdout",
     "output_type": "stream",
     "text": [
      "Avg Val Loss: 11.371268465816975, Avg Val Acc: 0.4000000092387199 (Best: 0.4390000107884407)\n",
      "=== Epoch: 7 ===\n"
     ]
    },
    {
     "name": "stderr",
     "output_type": "stream",
     "text": [
      "100%|████████████████████████████████████████████████████████████████████████████████| 200/200 [00:43<00:00,  4.61it/s]\n"
     ]
    },
    {
     "name": "stdout",
     "output_type": "stream",
     "text": [
      "Avg Train Loss: 1.3261039684870624, Avg Train Acc: 0.7640000107139349\n"
     ]
    },
    {
     "name": "stderr",
     "output_type": "stream",
     "text": [
      "100%|████████████████████████████████████████████████████████████████████████████████| 200/200 [00:17<00:00, 11.59it/s]\n"
     ]
    },
    {
     "name": "stdout",
     "output_type": "stream",
     "text": [
      "Avg Val Loss: 9.763569560870529, Avg Val Acc: 0.3920000093430281 (Best: 0.4390000107884407)\n",
      "=== Epoch: 8 ===\n"
     ]
    },
    {
     "name": "stderr",
     "output_type": "stream",
     "text": [
      "100%|████████████████████████████████████████████████████████████████████████████████| 200/200 [00:44<00:00,  4.46it/s]\n"
     ]
    },
    {
     "name": "stdout",
     "output_type": "stream",
     "text": [
      "Avg Train Loss: 1.0884871353671224, Avg Train Acc: 0.7580000122636557\n"
     ]
    },
    {
     "name": "stderr",
     "output_type": "stream",
     "text": [
      "100%|████████████████████████████████████████████████████████████████████████████████| 200/200 [00:18<00:00, 10.94it/s]\n"
     ]
    },
    {
     "name": "stdout",
     "output_type": "stream",
     "text": [
      "Avg Val Loss: 9.168794903308154, Avg Val Acc: 0.40500000983476636 (Best: 0.4390000107884407)\n",
      "=== Epoch: 9 ===\n"
     ]
    },
    {
     "name": "stderr",
     "output_type": "stream",
     "text": [
      "100%|████████████████████████████████████████████████████████████████████████████████| 200/200 [00:44<00:00,  4.48it/s]\n"
     ]
    },
    {
     "name": "stdout",
     "output_type": "stream",
     "text": [
      "Avg Train Loss: 0.8130880113984312, Avg Train Acc: 0.7970000100135803\n"
     ]
    },
    {
     "name": "stderr",
     "output_type": "stream",
     "text": [
      "100%|████████████████████████████████████████████████████████████████████████████████| 200/200 [00:18<00:00, 10.70it/s]\n"
     ]
    },
    {
     "name": "stdout",
     "output_type": "stream",
     "text": [
      "Avg Val Loss: 7.425144909098744, Avg Val Acc: 0.42300001077353955 (Best: 0.4390000107884407)\n",
      "=== Epoch: 10 ===\n"
     ]
    },
    {
     "name": "stderr",
     "output_type": "stream",
     "text": [
      "100%|████████████████████████████████████████████████████████████████████████████████| 200/200 [00:46<00:00,  4.28it/s]\n"
     ]
    },
    {
     "name": "stdout",
     "output_type": "stream",
     "text": [
      "Avg Train Loss: 0.6642206756609812, Avg Train Acc: 0.7950000103563071\n"
     ]
    },
    {
     "name": "stderr",
     "output_type": "stream",
     "text": [
      "100%|████████████████████████████████████████████████████████████████████████████████| 200/200 [00:18<00:00, 10.54it/s]\n"
     ]
    },
    {
     "name": "stdout",
     "output_type": "stream",
     "text": [
      "Avg Val Loss: 6.498958454728126, Avg Val Acc: 0.4020000094175339 (Best: 0.4390000107884407)\n",
      "=== Epoch: 11 ===\n"
     ]
    },
    {
     "name": "stderr",
     "output_type": "stream",
     "text": [
      "100%|████████████████████████████████████████████████████████████████████████████████| 200/200 [00:56<00:00,  3.51it/s]\n"
     ]
    },
    {
     "name": "stdout",
     "output_type": "stream",
     "text": [
      "Avg Train Loss: 0.6453331116284243, Avg Train Acc: 0.7860000109672547\n"
     ]
    },
    {
     "name": "stderr",
     "output_type": "stream",
     "text": [
      " 60%|████████████████████████████████████████████████                                | 120/200 [00:23<00:15,  5.18it/s]\n"
     ]
    },
    {
     "ename": "KeyboardInterrupt",
     "evalue": "",
     "output_type": "error",
     "traceback": [
      "\u001b[1;31m---------------------------------------------------------------------------\u001b[0m",
      "\u001b[1;31mKeyboardInterrupt\u001b[0m                         Traceback (most recent call last)",
      "\u001b[1;32m~\\AppData\\Local\\Temp\\ipykernel_85640\\756395412.py\u001b[0m in \u001b[0;36m<module>\u001b[1;34m\u001b[0m\n\u001b[0;32m      4\u001b[0m             \u001b[0mmodel\u001b[0m\u001b[1;33m=\u001b[0m\u001b[0mmodel\u001b[0m\u001b[1;33m,\u001b[0m\u001b[1;33m\u001b[0m\u001b[1;33m\u001b[0m\u001b[0m\n\u001b[0;32m      5\u001b[0m             \u001b[0moptim\u001b[0m\u001b[1;33m=\u001b[0m\u001b[0moptim\u001b[0m\u001b[1;33m,\u001b[0m\u001b[1;33m\u001b[0m\u001b[1;33m\u001b[0m\u001b[0m\n\u001b[1;32m----> 6\u001b[1;33m             lr_scheduler=lr_scheduler)\n\u001b[0m\u001b[0;32m      7\u001b[0m \u001b[0mbest_state\u001b[0m\u001b[1;33m,\u001b[0m \u001b[0mbest_acc\u001b[0m\u001b[1;33m,\u001b[0m \u001b[0mtrain_loss\u001b[0m\u001b[1;33m,\u001b[0m \u001b[0mtrain_acc\u001b[0m\u001b[1;33m,\u001b[0m \u001b[0mval_loss\u001b[0m\u001b[1;33m,\u001b[0m \u001b[0mval_acc\u001b[0m \u001b[1;33m=\u001b[0m \u001b[0mres\u001b[0m\u001b[1;33m\u001b[0m\u001b[1;33m\u001b[0m\u001b[0m\n",
      "\u001b[1;32m~\\AppData\\Local\\Temp\\ipykernel_85640\\4083655023.py\u001b[0m in \u001b[0;36mtrain\u001b[1;34m(opt, tr_dataloader, model, optim, lr_scheduler, val_dataloader)\u001b[0m\n\u001b[0;32m     50\u001b[0m             \u001b[0mmodel_output\u001b[0m \u001b[1;33m=\u001b[0m \u001b[0mmodel\u001b[0m\u001b[1;33m(\u001b[0m\u001b[0mx\u001b[0m\u001b[1;33m)\u001b[0m\u001b[1;33m\u001b[0m\u001b[1;33m\u001b[0m\u001b[0m\n\u001b[0;32m     51\u001b[0m             loss, acc = loss_fn(model_output, target=y,\n\u001b[1;32m---> 52\u001b[1;33m                                 n_support=opt.num_support_val)\n\u001b[0m\u001b[0;32m     53\u001b[0m             \u001b[0mval_loss\u001b[0m\u001b[1;33m.\u001b[0m\u001b[0mappend\u001b[0m\u001b[1;33m(\u001b[0m\u001b[0mloss\u001b[0m\u001b[1;33m.\u001b[0m\u001b[0mitem\u001b[0m\u001b[1;33m(\u001b[0m\u001b[1;33m)\u001b[0m\u001b[1;33m)\u001b[0m\u001b[1;33m\u001b[0m\u001b[1;33m\u001b[0m\u001b[0m\n\u001b[0;32m     54\u001b[0m             \u001b[0mval_acc\u001b[0m\u001b[1;33m.\u001b[0m\u001b[0mappend\u001b[0m\u001b[1;33m(\u001b[0m\u001b[0macc\u001b[0m\u001b[1;33m.\u001b[0m\u001b[0mitem\u001b[0m\u001b[1;33m(\u001b[0m\u001b[1;33m)\u001b[0m\u001b[1;33m)\u001b[0m\u001b[1;33m\u001b[0m\u001b[1;33m\u001b[0m\u001b[0m\n",
      "\u001b[1;32mE:\\CVprojects\\Butterflies\\src\\Prototypical_Networks_for_Few_shot_Learning_PyTorch\\src\\prototypical_loss.py\u001b[0m in \u001b[0;36mprototypical_loss\u001b[1;34m(input, target, n_support)\u001b[0m\n\u001b[0;32m     51\u001b[0m       \u001b[0mbarycentres\u001b[0m\u001b[1;33m,\u001b[0m \u001b[1;32mfor\u001b[0m \u001b[0meach\u001b[0m \u001b[0mone\u001b[0m \u001b[0mof\u001b[0m \u001b[0mthe\u001b[0m \u001b[0mcurrent\u001b[0m \u001b[0mclasses\u001b[0m\u001b[1;33m\u001b[0m\u001b[1;33m\u001b[0m\u001b[0m\n\u001b[0;32m     52\u001b[0m     '''\n\u001b[1;32m---> 53\u001b[1;33m     \u001b[0mtarget_cpu\u001b[0m \u001b[1;33m=\u001b[0m \u001b[0mtarget\u001b[0m\u001b[1;33m.\u001b[0m\u001b[0mto\u001b[0m\u001b[1;33m(\u001b[0m\u001b[1;34m'cpu'\u001b[0m\u001b[1;33m)\u001b[0m\u001b[1;33m\u001b[0m\u001b[1;33m\u001b[0m\u001b[0m\n\u001b[0m\u001b[0;32m     54\u001b[0m     \u001b[0minput_cpu\u001b[0m \u001b[1;33m=\u001b[0m \u001b[0minput\u001b[0m\u001b[1;33m.\u001b[0m\u001b[0mto\u001b[0m\u001b[1;33m(\u001b[0m\u001b[1;34m'cpu'\u001b[0m\u001b[1;33m)\u001b[0m\u001b[1;33m\u001b[0m\u001b[1;33m\u001b[0m\u001b[0m\n\u001b[0;32m     55\u001b[0m \u001b[1;33m\u001b[0m\u001b[0m\n",
      "\u001b[1;31mKeyboardInterrupt\u001b[0m: "
     ]
    }
   ],
   "source": [
    "res = train(opt=options,\n",
    "            tr_dataloader=tr_dataloader,\n",
    "            val_dataloader=val_dataloader,\n",
    "            model=model,\n",
    "            optim=optim,\n",
    "            lr_scheduler=lr_scheduler)\n",
    "best_state, best_acc, train_loss, train_acc, val_loss, val_acc = res"
   ]
  },
  {
   "cell_type": "code",
   "execution_count": 51,
   "metadata": {},
   "outputs": [
    {
     "data": {
      "text/plain": [
       "<matplotlib.image.AxesImage at 0x23336959cc8>"
      ]
     },
     "execution_count": 51,
     "metadata": {},
     "output_type": "execute_result"
    },
    {
     "data": {
      "image/png": "[encoded data removed]",
      "text/plain": [
       "<Figure size 432x288 with 1 Axes>"
      ]
     },
     "metadata": {
      "needs_background": "light"
     },
     "output_type": "display_data"
    }
   ],
   "source": [
    "import matplotlib.pyplot as plt\n",
    "sample = next(iter(tr_dataloader))[0][1].detach().cpu().numpy()\n",
    "sample = sample-np.min(sample)\n",
    "sample = sample*1/np.max(sample)\n",
    "sample = np.swapaxes(sample, 0, 2)\n",
    "sample = np.swapaxes(sample, 0, 1)\n",
    "plt.imshow(sample)"
   ]
  },
  {
   "cell_type": "code",
   "execution_count": 52,
   "metadata": {},
   "outputs": [
    {
     "data": {
      "text/plain": [
       "<matplotlib.image.AxesImage at 0x233369ecec8>"
      ]
     },
     "execution_count": 52,
     "metadata": {},
     "output_type": "execute_result"
    },
    {
     "data": {
      "image/png": "[encoded data removed]",
      "text/plain": [
       "<Figure size 432x288 with 1 Axes>"
      ]
     },
     "metadata": {
      "needs_background": "light"
     },
     "output_type": "display_data"
    }
   ],
   "source": [
    "sample = next(iter(val_dataloader))[0][1].detach().cpu().numpy()\n",
    "sample = sample-np.min(sample)\n",
    "sample = sample*1/np.max(sample)\n",
    "\n",
    "sample = np.swapaxes(sample, 0, 2)\n",
    "sample = np.swapaxes(sample, 0, 1)\n",
    "plt.imshow(sample)"
   ]
  },
  {
   "cell_type": "code",
   "execution_count": 28,
   "metadata": {},
   "outputs": [
    {
     "data": {
      "text/plain": [
       "(224, 224, 3)"
      ]
     },
     "execution_count": 28,
     "metadata": {},
     "output_type": "execute_result"
    }
   ],
   "source": [
    "sample.shape"
   ]
  },
  {
   "cell_type": "code",
   "execution_count": 25,
   "metadata": {
    "id": "euw0wBy3_p_r"
   },
   "outputs": [],
   "source": [
    "last_model_path = os.path.join(options.experiment_root,'last_model.pth')\n",
    "torch.save(model.state_dict(),last_model_path )"
   ]
  },
  {
   "cell_type": "code",
   "execution_count": null,
   "metadata": {},
   "outputs": [],
   "source": [
    "model.load_state_dict(torch.load('base_exp/best_model.pth'))"
   ]
  },
  {
   "cell_type": "code",
   "execution_count": 65,
   "metadata": {
    "colab": {
     "base_uri": "https://localhost:8080/"
    },
    "id": "b6ehYKK1y92P",
    "outputId": "6e7149f1-824e-46d0-ea76-5fa19c5d4754"
   },
   "outputs": [
    {
     "name": "stderr",
     "output_type": "stream",
     "text": [
      "100%|██████████| 2378/2378 [07:35<00:00,  5.22it/s]\n"
     ]
    },
    {
     "name": "stdout",
     "output_type": "stream",
     "text": [
      "Testing with last model..\n",
      "Test Acc: 0.458500000834465\n"
     ]
    },
    {
     "data": {
      "text/plain": [
       "0.458500000834465"
      ]
     },
     "execution_count": 65,
     "metadata": {},
     "output_type": "execute_result"
    }
   ],
   "source": [
    "test_dataloader = init_dataloader(options, 'test')\n",
    "\n",
    "\n"
   ]
  },
  {
   "cell_type": "code",
   "execution_count": 68,
   "metadata": {
    "colab": {
     "base_uri": "https://localhost:8080/"
    },
    "id": "c88cHxT-cS1B",
    "outputId": "70a13655-3eff-402e-f7f3-39d96b1acc71"
   },
   "outputs": [
    {
     "name": "stdout",
     "output_type": "stream",
     "text": [
      "Testing with last model..\n",
      "Test Acc: 0.44860000163316727\n"
     ]
    },
    {
     "data": {
      "text/plain": [
       "0.44860000163316727"
      ]
     },
     "execution_count": 68,
     "metadata": {},
     "output_type": "execute_result"
    }
   ],
   "source": [
    "print('Testing with last model..')\n",
    "test(opt=options,\n",
    "      test_dataloader=test_dataloader,\n",
    "      model=model)"
   ]
  },
  {
   "cell_type": "code",
   "execution_count": null,
   "metadata": {
    "id": "4es1kBAwlfZl"
   },
   "outputs": [],
   "source": [
    "model.load_state_dict(best_state)\n",
    "print('Testing with best model..')\n",
    "test(opt=options,\n",
    "      test_dataloader=test_dataloader,\n",
    "      model=model)"
   ]
  }
 ],
 "metadata": {
  "accelerator": "GPU",
  "colab": {
   "collapsed_sections": [],
   "name": "BaseExp.ipynb",
   "provenance": []
  },
  "gpuClass": "standard",
  "kernelspec": {
   "display_name": "Python 3 (ipykernel)",
   "language": "python",
   "name": "python3"
  },
  "language_info": {
   "codemirror_mode": {
    "name": "ipython",
    "version": 3
   },
   "file_extension": ".py",
   "mimetype": "text/x-python",
   "name": "python",
   "nbconvert_exporter": "python",
   "pygments_lexer": "ipython3",
   "version": "3.7.8"
  }
 },
 "nbformat": 4,
 "nbformat_minor": 1
}
