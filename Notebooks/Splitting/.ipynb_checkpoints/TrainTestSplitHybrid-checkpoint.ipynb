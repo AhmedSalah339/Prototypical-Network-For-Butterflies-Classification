{
 "cells": [
  {
   "cell_type": "code",
   "execution_count": 2,
   "metadata": {
    "id": "-n_jxtPg8vHw"
   },
   "outputs": [],
   "source": [
    "import torch\n",
    "from torch.utils.data import Dataset\n",
    "import glob\n",
    "import os\n",
    "import numpy as np\n",
    "import pickle\n",
    "from PIL import Image\n",
    "from tqdm import tqdm\n",
    "import cv2"
   ]
  },
  {
   "cell_type": "code",
   "execution_count": 3,
   "metadata": {},
   "outputs": [],
   "source": [
    "def save_dict(di_, filename_):\n",
    "    with open(filename_, 'wb') as f:\n",
    "        pickle.dump(di_, f)\n",
    "\n",
    "def load_dict(filename_):\n",
    "    with open(filename_, 'rb') as f:\n",
    "        ret_di = pickle.load(f)\n",
    "    return ret_di"
   ]
  },
  {
   "cell_type": "code",
   "execution_count": 4,
   "metadata": {},
   "outputs": [],
   "source": [
    "def get_files(filepath,expression='*.json'):\n",
    "    '''\n",
    "    Walks over a directory and its children to get all children json files pathes\n",
    "    Arguments:\n",
    "    file_path: string that specifies the path to the data parent directory \n",
    "    Returns:\n",
    "    all_files: List of all the filepaths of the matching expression files included in the directory\n",
    "    '''\n",
    "    all_files = []\n",
    "    for root, dirs, files in os.walk(filepath):\n",
    "        files = glob.glob(os.path.join(root,expression))\n",
    "        for f in files :\n",
    "            all_files.append(os.path.abspath(f))\n",
    "    return all_files"
   ]
  },
  {
   "cell_type": "code",
   "execution_count": 1,
   "metadata": {
    "colab": {
     "base_uri": "https://localhost:8080/"
    },
    "id": "3wtFv85v9Tbz",
    "outputId": "3bae4e39-e732-4ca9-cb7a-59f47da73ab3"
   },
   "outputs": [
    {
     "name": "stdout",
     "output_type": "stream",
     "text": [
      "E:\\CVprojects\\Butterflies\n"
     ]
    }
   ],
   "source": [
    "cd ..\\.."
   ]
  },
  {
   "cell_type": "code",
   "execution_count": 6,
   "metadata": {
    "colab": {
     "base_uri": "https://localhost:8080/",
     "height": 36
    },
    "id": "jrAz-p149XZi",
    "outputId": "e9829717-5821-4367-f625-ad5fb96a2b88"
   },
   "outputs": [],
   "source": [
    "data_path = 'Data'"
   ]
  },
  {
   "cell_type": "code",
   "execution_count": 7,
   "metadata": {
    "colab": {
     "base_uri": "https://localhost:8080/"
    },
    "id": "dTyHjiV79aZs",
    "outputId": "e95d39ff-fcbe-494c-bd3b-5cb003f0d93d"
   },
   "outputs": [
    {
     "data": {
      "text/plain": [
       "25279"
      ]
     },
     "execution_count": 7,
     "metadata": {},
     "output_type": "execute_result"
    }
   ],
   "source": [
    "files_paths = get_files(data_path,'*sub.pt')\n",
    "len(files_paths)"
   ]
  },
  {
   "cell_type": "code",
   "execution_count": 8,
   "metadata": {},
   "outputs": [
    {
     "data": {
      "text/plain": [
       "'E:\\\\CVprojects\\\\Butterflies\\\\Data\\\\images_small\\\\001.Atrophaneura_horishanus\\\\001.jpg'"
      ]
     },
     "execution_count": 8,
     "metadata": {},
     "output_type": "execute_result"
    }
   ],
   "source": [
    "files_paths[0][:-6]+'.jpg'"
   ]
  },
  {
   "cell_type": "code",
   "execution_count": 9,
   "metadata": {
    "id": "NU_S77xO9dyE"
   },
   "outputs": [],
   "source": [
    "\n",
    "images_classes = [os.path.basename(path.split('.')[0]) for path in files_paths]\n",
    "classes_samples = {}\n",
    "classes_names = {}\n",
    "for path in files_paths:\n",
    "    class_num = int(os.path.basename(path.split('.')[0]))-1\n",
    "    class_name = path.split('.')[1].split('/')[0]\n",
    "    if class_num not in classes_samples:\n",
    "        classes_samples[class_num] = []\n",
    "    classes_samples[class_num].append(path)\n",
    "    classes_names[class_num] = class_name"
   ]
  },
  {
   "cell_type": "markdown",
   "metadata": {
    "id": "c2jjgs3peUoX"
   },
   "source": [
    "## Downsampling\n",
    "Each class will be limited to 50 samples, rest will be in the slow testing dataset"
   ]
  },
  {
   "cell_type": "code",
   "execution_count": 9,
   "metadata": {
    "id": "ZyIZxFS19liW"
   },
   "outputs": [],
   "source": [
    "val_rat = 0.1\n",
    "test_rat = 0.1\n",
    "# use a big number to include all the examples\n",
    "max_samples_per_class = 1000000\n",
    "# classes to be used for the renset finetuning\n",
    "classes_to_consider = [60,55,45,121]"
   ]
  },
  {
   "cell_type": "code",
   "execution_count": 10,
   "metadata": {
    "id": "hHiGoB3e_Xrd"
   },
   "outputs": [],
   "source": [
    "train_paths = []\n",
    "val_paths = []\n",
    "test_paths = []\n",
    "slow_test_paths = []\n",
    "np.random.seed(0)\n",
    "\n",
    "for key in classes_to_consider:\n",
    "    cur_paths = np.array(classes_samples[key])\n",
    "    l = len(cur_paths)\n",
    "    l2 = min(l,max_samples_per_class)\n",
    "    num_val = int(l2*val_rat)\n",
    "    num_test = int(l2*val_rat)\n",
    "\n",
    "    all_indeces = np.arange(l)\n",
    "    np.random.shuffle(all_indeces)\n",
    "\n",
    "    if len(all_indeces)>max_samples_per_class:\n",
    "        indeces_slow_test = all_indeces[max_samples_per_class:]\n",
    "        all_indeces_down = all_indeces[:max_samples_per_class]\n",
    "    else:\n",
    "        indeces_slow_test = []\n",
    "        all_indeces_down = all_indeces\n",
    "\n",
    "    val_indeces = all_indeces_down[:num_val]\n",
    "    test_indeces = all_indeces_down[num_val:num_val+num_test]\n",
    "    train_indeces = all_indeces_down[num_val+num_test:]\n",
    "\n",
    "    train_paths.extend(cur_paths[train_indeces])\n",
    "    val_paths.extend(cur_paths[val_indeces])\n",
    "    test_paths.extend(cur_paths[test_indeces])\n"
   ]
  },
  {
   "cell_type": "code",
   "execution_count": 11,
   "metadata": {},
   "outputs": [
    {
     "data": {
      "text/plain": [
       "'E:\\\\CVprojects\\\\Butterflies\\\\Data\\\\images_small\\\\061.Gonepteryx_rhamni\\\\001sub.pt'"
      ]
     },
     "execution_count": 11,
     "metadata": {},
     "output_type": "execute_result"
    }
   ],
   "source": [
    "classes_samples[60][0]"
   ]
  },
  {
   "cell_type": "code",
   "execution_count": 12,
   "metadata": {
    "colab": {
     "base_uri": "https://localhost:8080/"
    },
    "id": "8Ta1ZyuXBUsu",
    "outputId": "e8ca41db-3d44-40ca-cd3f-b507a2ce6ebc"
   },
   "outputs": [
    {
     "data": {
      "text/plain": [
       "2152"
      ]
     },
     "execution_count": 12,
     "metadata": {},
     "output_type": "execute_result"
    }
   ],
   "source": [
    "len(train_paths)+len(val_paths)+len(test_paths)"
   ]
  },
  {
   "cell_type": "code",
   "execution_count": 13,
   "metadata": {
    "id": "lJsIrtP5BiDD"
   },
   "outputs": [],
   "source": [
    "split_dict = {\n",
    "    'train':train_paths,\n",
    "    'val':val_paths,\n",
    "    'test':test_paths\n",
    "}\n",
    "split_dict_name = os.path.join('splits',\"split_dict_sub.pkl\")\n",
    "save_dict(split_dict,split_dict_name)"
   ]
  },
  {
   "cell_type": "code",
   "execution_count": 115,
   "metadata": {},
   "outputs": [],
   "source": [
    "val_rat = 0.25\n",
    "test_rat = 0.25"
   ]
  },
  {
   "cell_type": "code",
   "execution_count": 118,
   "metadata": {
    "id": "17Hlm_46fX0L"
   },
   "outputs": [],
   "source": [
    "train_paths = []\n",
    "val_paths = []\n",
    "test_paths = []\n",
    "slow_test_paths = []\n",
    "\n",
    "max_samples_per_class = 90\n",
    "for key in classes_samples:\n",
    "    cur_paths = np.array(classes_samples[key])\n",
    "    l = len(cur_paths)\n",
    "    l2 = min(l,max_samples_per_class)\n",
    "    num_val = int(l2*val_rat)\n",
    "    num_test = int(l2*val_rat)\n",
    "\n",
    "    all_indeces = np.arange(l)\n",
    "    np.random.shuffle(all_indeces)\n",
    "\n",
    "    if len(all_indeces)>max_samples_per_class:\n",
    "        indeces_slow_test = all_indeces[max_samples_per_class:]\n",
    "        all_indeces_down = all_indeces[:max_samples_per_class]\n",
    "    else:\n",
    "        indeces_slow_test = []\n",
    "        all_indeces_down = all_indeces\n",
    "\n",
    "    val_indeces = all_indeces_down[:num_val]\n",
    "    test_indeces = all_indeces_down[num_val:num_val+num_test]\n",
    "    train_indeces = all_indeces_down[num_val+num_test:]\n",
    "\n",
    "    train_paths.extend(cur_paths[train_indeces])\n",
    "    val_paths.extend(cur_paths[val_indeces])\n",
    "    test_paths.extend(cur_paths[test_indeces])\n"
   ]
  },
  {
   "cell_type": "code",
   "execution_count": 119,
   "metadata": {},
   "outputs": [
    {
     "data": {
      "text/plain": [
       "15976"
      ]
     },
     "execution_count": 119,
     "metadata": {},
     "output_type": "execute_result"
    }
   ],
   "source": [
    "len(train_paths)+len(val_paths)+len(test_paths)"
   ]
  },
  {
   "cell_type": "code",
   "execution_count": 120,
   "metadata": {},
   "outputs": [],
   "source": [
    "base = 'E:\\\\CVprojects\\\\Butterflies\\Data\\\\images_small\\\\'\n",
    "designed_splits = {\n",
    "    'train':{\n",
    "    base+'110.Chitoria_ulupi':[1,2,3,4,7,10,13,17,20,27,30,31,36],\n",
    "        base+'113.Sasakia_charonda':[1,4,7,10,13,16,19,20,22,25,28,31,33,34,37,39,42,44,48,53,61,63,68,70,72,76,79,81],\n",
    "        base+'133.Damora_sagana':[2,4,1,10,16,17,19,21,24,27,30,33,38,42,46,49,50,52,54,55],\n",
    "        base+'006.Graphium_agamemnon':[1,2,5,8,9,10,12,18,22,26,28,31,34,37,40,42,43,45,49,55,58,65],\n",
    "        base+'175.Rapala_nissa':[1,2,3,4,9,10,11,12,14,17,19,23,24,27,32,36,38,39,40,41,42,45,50,52,54,57,64,65,66,67],\n",
    "        base+'014.Meandrusa_sciron':[1,2,3,5,6,10,11,12,13,14,15,18,19,21,24,25,26,29,34,35,36,39,43],\n",
    "        base+'118.Euthalia_niepelti':[1,2,3,5,6,8,11,13,16,18,22,24,27,28,29,30,32],\n",
    "        base+'142.Doleschallia_bisaltide':[1,4,6,8,9,10,11,15,17,19,21,24,26,29,31,33,35,45,47,48,51,54,57],\n",
    "        base+'155.Libythea_myrrha':[1,2,5,7,10,11,14,15,18,19,20,21,25,27,31,32,37,39,40,42,46,49,50,53,58,59,62,63,66,69,73,76,79,80],\n",
    "        base+'174.Mahathala_ameria':[1,2,3,4,5,6,12,14,19,23,24,25,29,31,32,34,37,38,40,43,44,45,46,47],\n",
    "        base+'179.Zizeeria_maha':[1,2,3,4,6,7,11,14,17,18,21,25,26,28,29,30,34,37,38,39,46,51,52,53,54,59,60,61,64,66,69,72,73,74,75,76,78,79,80,84]\n",
    "        \n",
    "    },\n",
    "    'val':{\n",
    "    base+'110.Chitoria_ulupi':[5,8,11,12,18,21,25,28,32],\n",
    "        base+'113.Sasakia_charonda':[2,5,8,11,14,17,21,23,26,29,32,35,38,40,43,46,49,55,56,59,62,64,73,75,80,83,84],\n",
    "        base+'133.Damora_sagana':[3,5,6,11,18,20,22,28,32,34,37,39,41,34,44,51,57,58,59],\n",
    "        base+'006.Graphium_agamemnon':[3,6,11,14,16,19,21,25,29,33,35,38,41,44,46,52,53,54,59,61],\n",
    "        base+'175.Rapala_nissa':[5,7,13,15,22,25,28,30,31,34,37,46,47,51,53,55,60,68,70],\n",
    "        base+'014.Meandrusa_sciron':[7,16,20,22,27,33,37,42,44,45],\n",
    "        base+'118.Euthalia_niepelti':[4,7,9,10,14,19,23,25,31],\n",
    "        base+'142.Doleschallia_bisaltide':[2,5,14,18,20,25,27,30,34,37,39,41,43,46,52,55,58,60],\n",
    "        base+'155.Libythea_myrrha':[3,6,9,12,16,22,26,30,33,36,38,44,47,48,52,55,70,71,72,74,77,81],\n",
    "        base+'174.Mahathala_ameria':[7,8,10,20,22,26,28,33,35,41,48,50,],\n",
    "        base+'179.Zizeeria_maha':[5,9,10,15,16,19,22,27,33,35,41,43,47,50,55,57,62,67,77,81,83]\n",
    "    },\n",
    "    'test':{\n",
    "    base+'110.Chitoria_ulupi':[6,9,15,19,22,23,24,29,35],\n",
    "        base+'113.Sasakia_charonda':[3,6,9,12,15,18,24,27,30,36,41,47,50,51,54,57,60,65,69,71,74,77,82,85],\n",
    "        base+'133.Damora_sagana':[7,12,14,23,25,29,31,35,36,40,45,48,53,56],\n",
    "        base+'006.Graphium_agamemnon':[4,7,13,15,17,20,23,24,30,32,36,39,47,48,50,51,56,62,63,64,70],\n",
    "        base+'175.Rapala_nissa':[6,8,16,18,20,26,29,33,35,43,44,49,56,58,59,61,62,69,71],\n",
    "        base+'014.Meandrusa_sciron':[9,17,23,28,30,32,40,46,47,48],\n",
    "        base+'118.Euthalia_niepelti':[12,15,17,20,21,26],\n",
    "        base+'142.Doleschallia_bisaltide':[3,7,16,22,23,28,32,36,38,40,42,44,49,50,53,65,59,61],\n",
    "        base+'155.Libythea_myrrha':[4,8,13,17,23,28,34,35,41,43,45,51,60,61,64,65,67,68,69,75,78],\n",
    "        base+'174.Mahathala_ameria':[9,11,13,21,27,30,36,42,49,51,54,56,57],\n",
    "        base+'179.Zizeeria_maha':[8,12,13,20,23,24,31,32,36,42,44,45,48,49,56,58,63,65,68,71,82]\n",
    "        \n",
    "    }\n",
    "}"
   ]
  },
  {
   "cell_type": "code",
   "execution_count": 121,
   "metadata": {},
   "outputs": [
    {
     "data": {
      "text/plain": [
       "'122'"
      ]
     },
     "execution_count": 121,
     "metadata": {},
     "output_type": "execute_result"
    }
   ],
   "source": [
    "def format_number(num,suffix = ''):\n",
    "    s = str(num)\n",
    "    \n",
    "    l = len(s)\n",
    "    while l <3:\n",
    "        s = '0'+s\n",
    "        l+=1\n",
    "    return s+suffix\n",
    "\n",
    "format_number(122)"
   ]
  },
  {
   "cell_type": "code",
   "execution_count": 122,
   "metadata": {},
   "outputs": [],
   "source": [
    "train_paths_designed = [os.path.join(path,format_number(num,'sub.pt'))for path in designed_splits['train'] for num in designed_splits['train'][path]]\n",
    "val_paths_designed = [os.path.join(path,format_number(num,'sub.pt'))for path in designed_splits['val'] for num in designed_splits['train'][path]]\n",
    "test_paths_designed = [os.path.join(path,format_number(num,'sub.pt'))for path in designed_splits['test'] for num in designed_splits['train'][path]]\n"
   ]
  },
  {
   "cell_type": "code",
   "execution_count": 123,
   "metadata": {},
   "outputs": [],
   "source": [
    "def get_class(path):\n",
    "    return int(os.path.basename(path.split('.')[0]))-1"
   ]
  },
  {
   "cell_type": "code",
   "execution_count": 124,
   "metadata": {},
   "outputs": [
    {
     "data": {
      "text/plain": [
       "[109, 112, 132, 5, 174, 13, 117, 141, 154, 173, 178]"
      ]
     },
     "execution_count": 124,
     "metadata": {},
     "output_type": "execute_result"
    }
   ],
   "source": [
    "design_classes = [get_class(key)for key in designed_splits['train']]\n",
    "design_classes"
   ]
  },
  {
   "cell_type": "code",
   "execution_count": 125,
   "metadata": {},
   "outputs": [],
   "source": [
    "train_paths = [p for p in train_paths if get_class(p) not in design_classes]\n",
    "val_paths = [p for p in val_paths if get_class(p) not in design_classes]\n",
    "test_paths = [p for p in test_paths if get_class(p) not in design_classes]\n"
   ]
  },
  {
   "cell_type": "code",
   "execution_count": 126,
   "metadata": {},
   "outputs": [],
   "source": [
    "train_paths+=train_paths_designed\n",
    "val_paths+=val_paths_designed\n",
    "test_paths+=test_paths_designed"
   ]
  },
  {
   "cell_type": "code",
   "execution_count": 127,
   "metadata": {},
   "outputs": [],
   "source": [
    "split_dict = {\n",
    "    'train':train_paths,\n",
    "    'val':val_paths,\n",
    "    'test':test_paths,\n",
    "#     'slow_test':slow_test_paths\n",
    "}\n",
    "split_dict_name = \"split_dict_sub_main.pkl\"\n",
    "save_dict(split_dict,split_dict_name)"
   ]
  },
  {
   "cell_type": "code",
   "execution_count": null,
   "metadata": {},
   "outputs": [],
   "source": []
  }
 ],
 "metadata": {
  "colab": {
   "collapsed_sections": [],
   "name": "TrainTestSplit.ipynb",
   "provenance": []
  },
  "kernelspec": {
   "display_name": "Python 3 (ipykernel)",
   "language": "python",
   "name": "python3"
  },
  "language_info": {
   "codemirror_mode": {
    "name": "ipython",
    "version": 3
   },
   "file_extension": ".py",
   "mimetype": "text/x-python",
   "name": "python",
   "nbconvert_exporter": "python",
   "pygments_lexer": "ipython3",
   "version": "3.7.8"
  }
 },
 "nbformat": 4,
 "nbformat_minor": 1
}
