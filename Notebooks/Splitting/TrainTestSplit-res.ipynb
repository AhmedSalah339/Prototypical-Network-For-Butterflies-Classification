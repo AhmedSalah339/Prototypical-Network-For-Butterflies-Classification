{
 "cells": [
  {
   "cell_type": "code",
   "execution_count": 1,
   "metadata": {
    "id": "-n_jxtPg8vHw"
   },
   "outputs": [],
   "source": [
    "import torch\n",
    "from torch.utils.data import Dataset\n",
    "import glob\n",
    "import os\n",
    "import numpy as np\n",
    "import pickle\n",
    "from PIL import Image\n",
    "from tqdm import tqdm\n",
    "import cv2"
   ]
  },
  {
   "cell_type": "code",
   "execution_count": 2,
   "metadata": {},
   "outputs": [],
   "source": [
    "def save_dict(di_, filename_):\n",
    "    with open(filename_, 'wb') as f:\n",
    "        pickle.dump(di_, f)\n",
    "\n",
    "def load_dict(filename_):\n",
    "    with open(filename_, 'rb') as f:\n",
    "        ret_di = pickle.load(f)\n",
    "    return ret_di"
   ]
  },
  {
   "cell_type": "code",
   "execution_count": 3,
   "metadata": {},
   "outputs": [],
   "source": [
    "def get_files(filepath,expression='*.json'):\n",
    "    '''\n",
    "    Walks over a directory and its children to get all children json files pathes\n",
    "    Arguments:\n",
    "    file_path: string that specifies the path to the data parent directory \n",
    "    Returns:\n",
    "    all_files: List of all the filepaths of the matching expression files included in the directory\n",
    "    '''\n",
    "    all_files = []\n",
    "    for root, dirs, files in os.walk(filepath):\n",
    "        files = glob.glob(os.path.join(root,expression))\n",
    "        for f in files :\n",
    "            all_files.append(os.path.abspath(f))\n",
    "    return all_files"
   ]
  },
  {
   "cell_type": "code",
   "execution_count": 4,
   "metadata": {
    "colab": {
     "base_uri": "https://localhost:8080/"
    },
    "id": "3wtFv85v9Tbz",
    "outputId": "3bae4e39-e732-4ca9-cb7a-59f47da73ab3"
   },
   "outputs": [
    {
     "name": "stdout",
     "output_type": "stream",
     "text": [
      "E:\\CVprojects\\Butterflies\n"
     ]
    }
   ],
   "source": [
    "cd ..\\.."
   ]
  },
  {
   "cell_type": "code",
   "execution_count": 5,
   "metadata": {
    "colab": {
     "base_uri": "https://localhost:8080/",
     "height": 36
    },
    "id": "jrAz-p149XZi",
    "outputId": "e9829717-5821-4367-f625-ad5fb96a2b88"
   },
   "outputs": [],
   "source": [
    "data_path = 'Data'"
   ]
  },
  {
   "cell_type": "code",
   "execution_count": 6,
   "metadata": {
    "colab": {
     "base_uri": "https://localhost:8080/"
    },
    "id": "dTyHjiV79aZs",
    "outputId": "e95d39ff-fcbe-494c-bd3b-5cb003f0d93d"
   },
   "outputs": [
    {
     "data": {
      "text/plain": [
       "25279"
      ]
     },
     "execution_count": 6,
     "metadata": {},
     "output_type": "execute_result"
    }
   ],
   "source": [
    "files_paths = get_files(data_path,'*sub.pt')\n",
    "len(files_paths)"
   ]
  },
  {
   "cell_type": "code",
   "execution_count": 7,
   "metadata": {},
   "outputs": [
    {
     "data": {
      "text/plain": [
       "'E:\\\\CVprojects\\\\Butterflies\\\\Data\\\\images_small\\\\001.Atrophaneura_horishanus\\\\001.jpg'"
      ]
     },
     "execution_count": 7,
     "metadata": {},
     "output_type": "execute_result"
    }
   ],
   "source": [
    "files_paths[0][:-6]+'.jpg'"
   ]
  },
  {
   "cell_type": "code",
   "execution_count": 8,
   "metadata": {
    "id": "NU_S77xO9dyE"
   },
   "outputs": [],
   "source": [
    "\n",
    "images_classes = [os.path.basename(path.split('.')[0]) for path in files_paths]\n",
    "classes_samples = {}\n",
    "classes_names = {}\n",
    "for path in files_paths:\n",
    "    class_num = int(os.path.basename(path.split('.')[0]))-1\n",
    "    class_name = path.split('.')[1].split('/')[0]\n",
    "    if class_num not in classes_samples:\n",
    "        classes_samples[class_num] = []\n",
    "    classes_samples[class_num].append(path)\n",
    "    classes_names[class_num] = class_name"
   ]
  },
  {
   "cell_type": "markdown",
   "metadata": {
    "id": "c2jjgs3peUoX"
   },
   "source": [
    "## Downsampling\n",
    "Each class will be limited to 50 samples, rest will be in the slow testing dataset"
   ]
  },
  {
   "cell_type": "code",
   "execution_count": 9,
   "metadata": {
    "id": "ZyIZxFS19liW"
   },
   "outputs": [],
   "source": [
    "val_rat = 0.1\n",
    "test_rat = 0.1\n",
    "# use a big number to include all the examples\n",
    "max_samples_per_class = 1000000\n",
    "# classes to be used for the renset finetuning\n",
    "classes_to_consider = [60,55,45,121]"
   ]
  },
  {
   "cell_type": "code",
   "execution_count": 10,
   "metadata": {
    "id": "hHiGoB3e_Xrd"
   },
   "outputs": [],
   "source": [
    "train_paths = []\n",
    "val_paths = []\n",
    "test_paths = []\n",
    "slow_test_paths = []\n",
    "np.random.seed(0)\n",
    "\n",
    "for key in classes_to_consider:\n",
    "    cur_paths = np.array(classes_samples[key])\n",
    "    l = len(cur_paths)\n",
    "    l2 = min(l,max_samples_per_class)\n",
    "    num_val = int(l2*val_rat)\n",
    "    num_test = int(l2*val_rat)\n",
    "\n",
    "    all_indeces = np.arange(l)\n",
    "    np.random.shuffle(all_indeces)\n",
    "\n",
    "    if len(all_indeces)>max_samples_per_class:\n",
    "        indeces_slow_test = all_indeces[max_samples_per_class:]\n",
    "        all_indeces_down = all_indeces[:max_samples_per_class]\n",
    "    else:\n",
    "        indeces_slow_test = []\n",
    "        all_indeces_down = all_indeces\n",
    "\n",
    "    val_indeces = all_indeces_down[:num_val]\n",
    "    test_indeces = all_indeces_down[num_val:num_val+num_test]\n",
    "    train_indeces = all_indeces_down[num_val+num_test:]\n",
    "\n",
    "    train_paths.extend(cur_paths[train_indeces])\n",
    "    val_paths.extend(cur_paths[val_indeces])\n",
    "    test_paths.extend(cur_paths[test_indeces])\n"
   ]
  },
  {
   "cell_type": "code",
   "execution_count": 11,
   "metadata": {},
   "outputs": [
    {
     "data": {
      "text/plain": [
       "'E:\\\\CVprojects\\\\Butterflies\\\\Data\\\\images_small\\\\061.Gonepteryx_rhamni\\\\001sub.pt'"
      ]
     },
     "execution_count": 11,
     "metadata": {},
     "output_type": "execute_result"
    }
   ],
   "source": [
    "classes_samples[60][0]"
   ]
  },
  {
   "cell_type": "code",
   "execution_count": 12,
   "metadata": {
    "colab": {
     "base_uri": "https://localhost:8080/"
    },
    "id": "8Ta1ZyuXBUsu",
    "outputId": "e8ca41db-3d44-40ca-cd3f-b507a2ce6ebc"
   },
   "outputs": [
    {
     "data": {
      "text/plain": [
       "2152"
      ]
     },
     "execution_count": 12,
     "metadata": {},
     "output_type": "execute_result"
    }
   ],
   "source": [
    "len(train_paths)+len(val_paths)+len(test_paths)"
   ]
  },
  {
   "cell_type": "code",
   "execution_count": 13,
   "metadata": {},
   "outputs": [],
   "source": [
    "train_paths = [os.path.relpath(p,'.') for p in train_paths ]\n",
    "val_paths = [os.path.relpath(p,'.') for p in val_paths ]\n",
    "test_paths = [os.path.relpath(p,'.') for p in test_paths ]"
   ]
  },
  {
   "cell_type": "code",
   "execution_count": 16,
   "metadata": {
    "id": "lJsIrtP5BiDD"
   },
   "outputs": [],
   "source": [
    "split_dict = {\n",
    "    'train':train_paths,\n",
    "    'val':val_paths,\n",
    "    'test':test_paths\n",
    "}\n",
    "delim = os.sep\n",
    "split_dict_name = 'configs'+delim+'splits'+delim+\"split_dict_res.pkl\"\n",
    "save_dict(split_dict,split_dict_name)"
   ]
  },
  {
   "cell_type": "code",
   "execution_count": null,
   "metadata": {},
   "outputs": [],
   "source": []
  },
  {
   "cell_type": "code",
   "execution_count": null,
   "metadata": {},
   "outputs": [],
   "source": []
  }
 ],
 "metadata": {
  "colab": {
   "collapsed_sections": [],
   "name": "TrainTestSplit.ipynb",
   "provenance": []
  },
  "kernelspec": {
   "display_name": "Python 3 (ipykernel)",
   "language": "python",
   "name": "python3"
  },
  "language_info": {
   "codemirror_mode": {
    "name": "ipython",
    "version": 3
   },
   "file_extension": ".py",
   "mimetype": "text/x-python",
   "name": "python",
   "nbconvert_exporter": "python",
   "pygments_lexer": "ipython3",
   "version": "3.7.8"
  }
 },
 "nbformat": 4,
 "nbformat_minor": 1
}
